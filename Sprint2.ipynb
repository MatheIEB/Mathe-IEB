{
 "cells": [
  {
   "cell_type": "markdown",
   "metadata": {},
   "source": [
    "<div class=\"pull-right\"> \n",
    "<img src= https://upload.wikimedia.org/wikipedia/commons/f/f7/Hochschule_Mannheim_logo.svg \"width=350\" >\n",
    "<img src= https://upload.wikimedia.org/wikipedia/de/5/57/Hochschule_Furtwangen_HFU_logo.svg \"width=350\" >\n",
    "&emsp;\n",
    "&emsp;\n",
    "&emsp;\n",
    "</div>"
   ]
  },
  {
   "cell_type": "markdown",
   "metadata": {},
   "source": [
    "## Inhalte dieses Kurses\n",
    "\n",
    "- [Erste Schritte](Erste_Schritte.ipynb)\n",
    "- [Python installieren und ausführen](Installation.ipynb)\n",
    "- [Sprint 1: Grundlagen und Numpy](Sprint1.ipynb)\n",
    "- [**Sprint 2: Grafiken mit Matplotlib**](Sprint2.ipynb)\n",
    "- [Sprint 3: Sympy](Sprint3.ipynb)\n",
    "\n",
    "Alle Sprints und Beispiele finden Sie in [\"Felix\"](https://felix.hs-furtwangen.de/auth/RepositoryEntry/4044652753/CourseNode/104358206862350)"
   ]
  },
  {
   "cell_type": "markdown",
   "metadata": {},
   "source": [
    "# Sprint 2\n",
    "# Grafiken mit Matplotlib"
   ]
  },
  {
   "cell_type": "markdown",
   "metadata": {},
   "source": [
    "In diesem Sprint lernen Sie mit der Bibliothek `Matplotlib` umzugehen und damit Grafiken zu erstellen. Sie können sich dann Vektoren oder Funktionen zeichnen lassen. Am Ende des Notebooks finden Sie wieder Aufgaben aus der Mathematik und Physik, die Sie mithilfe des hier Gelernten lösen sollen."
   ]
  },
  {
   "cell_type": "markdown",
   "metadata": {},
   "source": [
    "## Matplotlib einbinden"
   ]
  },
  {
   "cell_type": "markdown",
   "metadata": {},
   "source": [
    "Zuerst muss die Bibliothek `Matplotlib` importiert werden. Für diesen Sprint benötigen Sie nur einen kleinen Teil dieser Bibliothek. Beim Importieren kann daher nur 'Pyplot' importiert werden. Um Schreibarbeit zu sparen, importieren wir pyplot unter dem Namen 'plt'. Diese Abkürzung, genauso wie 'np' für numpy, ist dabei eine Konvention und wird nahezu überall verwendet. Zusätzlich zur pyplot benötigen Sie auch wieder numpy. Damit die Grafiken direkt im Notebook angezeigt werden, muss der Befehl `%matplotlib inline` (für statische Plots) oder `%matplotlib notebook` (für interaktive Diagramme) **VOR** dem Importieren von Matplotlib ausgeführt werden."
   ]
  },
  {
   "cell_type": "code",
   "execution_count": null,
   "metadata": {},
   "outputs": [],
   "source": [
    "# zeige statische Plots direkt im Jupyter Notebook an (ist nur nötig bei Jupyter Notebooks)\n",
    "%matplotlib inline\n",
    "# pyplot importieren\n",
    "import matplotlib.pyplot as plt \n",
    "# numpy importieren\n",
    "import numpy as np"
   ]
  },
  {
   "cell_type": "markdown",
   "metadata": {},
   "source": [
    "## Einfache Grafiken"
   ]
  },
  {
   "cell_type": "markdown",
   "metadata": {},
   "source": [
    "Sie werden hier einige einfache Funktionen kennenlernen, mit denen man leicht Daten plotten kann.\n",
    "- **`plot`** nimmt x- und y-Daten als Vektoren und optionale Argumente an. Sollten Sie keine x-Daten übergeben, werden die Indices (0,1,2,3,...) der y-Daten als x-Daten verwendet.\n",
    "- **`scatter`** plottet einzelnde Datenpunkte anstatt einer Linie.\n",
    "- **`hist`** erstellt ein Histogram.                \n",
    "\n",
    "\n",
    "Hilfe, Beispiele und eine Auflistung von Optionen findet man im Notebook mit einem entsprechenden ?-Befehl, z.B. `plt.plot?`"
   ]
  },
  {
   "cell_type": "markdown",
   "metadata": {},
   "source": [
    "### Beispiele"
   ]
  },
  {
   "cell_type": "markdown",
   "metadata": {},
   "source": [
    "#### Plot\n",
    "Der Plot benötigt x- und y-Daten und stellt diese dann als Linie dar. Zuerst werden die x-Daten übergeben, dann die y-Daten. Beide Vektoren müssen gleich lang sein. Zusätzlich können noch verschiedene Optionen angegeben werden, wie z.B die Farbe der Linie oder der Linienstil (Punkte, Kreise, usw.). "
   ]
  },
  {
   "cell_type": "code",
   "execution_count": null,
   "metadata": {
    "scrolled": false
   },
   "outputs": [],
   "source": [
    "x_Data = np.array([2, 5, 6, 10, 11, 42])\n",
    "y_Data = np.array([10, 12, 14, 43, 32, 50])\n",
    "plt.plot(x_Data,y_Data,'go');  #Semikolon verhindert Ausgabe von überflüssigen Informationen"
   ]
  },
  {
   "cell_type": "markdown",
   "metadata": {},
   "source": [
    "Versuchen Sie einmal obigen Plot mit roten Kreuzen anstatt grünen Kreisen darzustellen. Für die verschiedenen Farben und Formen finden sie _[hier](https://www.grund-wissen.de/informatik/python/scipy/matplotlib.html)_ eine Liste mit den Abkürzungen."
   ]
  },
  {
   "cell_type": "code",
   "execution_count": null,
   "metadata": {},
   "outputs": [],
   "source": [
    "# Ihre Lösung hier"
   ]
  },
  {
   "cell_type": "markdown",
   "metadata": {},
   "source": [
    "<font color='blue'> Doppelklicken Sie <b>hier</b> für die Lösung.</font>\n",
    "<!-- Lösung: \n",
    "        plt.plot(x_Data,y_Data,'xr')\n",
    "-->"
   ]
  },
  {
   "cell_type": "markdown",
   "metadata": {},
   "source": [
    "Um eine Funktion in einem bestimmten Bereich plotten zu lassen, erstellen Sie zunächst einen Vektor im entsprechenden Wertebereich und lassen sich dann die Funktionswerte in einen zweiten Vektor berechnen. Um `sin(x)`von $0$ bis $2\\pi$ plotten zu lassen, könnten Sie folgenden Code verwenden (der Sinus ist in der Bibliothek `numpy` und wird mit `np.sin`aufgerufen) : "
   ]
  },
  {
   "cell_type": "code",
   "execution_count": null,
   "metadata": {},
   "outputs": [],
   "source": [
    "x_Data = np.linspace(0, 2 * np.pi, 100) #erzeugt 100 x-Werte zwischen 0 und 2pi\n",
    "y_Data = np.sin(x_Data) # berechnet den Sinus der x-Daten\n",
    "plt.plot(x_Data, y_Data);"
   ]
  },
  {
   "cell_type": "markdown",
   "metadata": {},
   "source": [
    "Versuchen Sie einmal einen zweiten Plot zu erzeugen, der 2 Perioden des Sinus in grün darstellt."
   ]
  },
  {
   "cell_type": "code",
   "execution_count": null,
   "metadata": {},
   "outputs": [],
   "source": [
    "# Ihre Lösung hier"
   ]
  },
  {
   "cell_type": "markdown",
   "metadata": {},
   "source": [
    "<font color='blue'> Doppelklicken Sie <b>hier</b> für die Lösung.</font>\n",
    "<!-- Lösung: \n",
    "x_Data = np.linspace(0, 4 * np.pi, 100) #erzeugt 100 x-Werte zwischen 0 und 4 Pi\n",
    "y_Data = np.sin(x_Data) # berechnet den Sinus der x-Daten\n",
    "plt.plot(x_Data, y_Data, 'g') #erzeugt den Plot mit grüner Linie\n",
    "-->"
   ]
  },
  {
   "cell_type": "markdown",
   "metadata": {},
   "source": [
    "Manchmal möchte man zwei Plots in einer Grafik anzeigen. Sie können dazu einfach einen zweiten Plot-Befehl unter den ersten schreiben. In folgendem Beispiel werden der Sinus und der Cosinus von $0$ bis $2\\pi$ geplottet. Python ändert die Farbe des zweiten Plots dabei automatisch für eine bessere Übersichtlichkeit."
   ]
  },
  {
   "cell_type": "code",
   "execution_count": null,
   "metadata": {},
   "outputs": [],
   "source": [
    "y_Data_sin = np.sin(x_Data) # berechnet den Sinus der x-Daten\n",
    "y_Data_cos = np.cos(x_Data) # berechnet den Cosinus der x-Daten\n",
    "plt.plot(x_Data, y_Data_sin) # plottet den Sinus\n",
    "plt.plot(x_Data, y_Data_cos); # plottet den Cosinus"
   ]
  },
  {
   "cell_type": "markdown",
   "metadata": {},
   "source": [
    "### Achsenbeschriftungen und Titel von Grafiken\n",
    "Wie Sie sicher bereits wissen, ist es wichtig, immer Achsenbeschriftungen an Plots anzubringen. Auch Überschriften und Legenden sind in viele Fällen hilfreich. \n",
    "\n",
    "Achsenbeschriftungen werden mit `plt.xlabel('x-Achse')` bzw. `plt.ylabel('y_Achse')` erzeugt. Die Achsenbeschriftung steht dabei in '' ."
   ]
  },
  {
   "cell_type": "code",
   "execution_count": null,
   "metadata": {},
   "outputs": [],
   "source": [
    "plt.plot(x_Data, y_Data_sin)\n",
    "plt.plot(x_Data, y_Data_cos)\n",
    "plt.xlabel('x [rad]')\n",
    "plt.ylabel('Amplitude');"
   ]
  },
  {
   "cell_type": "markdown",
   "metadata": {},
   "source": [
    "Da Sie den Sinus und Cosinus geplottet haben, wäre es zudem noch sinnvoll eine Legende einzufügen, damit klar ist, welche Farbe zu welcher Funktion gehört. Dazu müssen sie den beiden Plots ein `label`, also einen Namen, geben und anschließend noch die Legende mit `plt.legend(loc = ' ')` erzeugen. "
   ]
  },
  {
   "cell_type": "code",
   "execution_count": null,
   "metadata": {},
   "outputs": [],
   "source": [
    "plt.plot(x_Data, y_Data_sin,label='Sinus(x)')   #plottet den Sinus und hat das Label 'Sinus'\n",
    "plt.plot(x_Data, y_Data_cos,label='Cosinus(x)') #plottet den Cosinus und hat das Label 'Cosinus'\n",
    "\n",
    "plt.xlabel('x [rad]') #fügt x-Achsenbeschriftung ein\n",
    "plt.ylabel('Amplitude') #fügt y-Achsenbeschriftung ein\n",
    "\n",
    "plt.legend(loc = 'lower left'); #fügt die Legende unten links ein.\n",
    "#plt.legend() #ist auch möglich: platziert die Legende nach Möglichkeit dort, wo keine Daten liegen"
   ]
  },
  {
   "cell_type": "markdown",
   "metadata": {},
   "source": [
    "Sollten Sie nun noch zusätzlich eine Überschrift für die Grafik haben wollen, können Sie mit `plt.title` eine erzeugen."
   ]
  },
  {
   "cell_type": "code",
   "execution_count": null,
   "metadata": {
    "scrolled": true
   },
   "outputs": [],
   "source": [
    "plt.plot(x_Data, y_Data_sin,label='Sinus(x)')   #plottet den Sinus und hat das Label 'Sinus'\n",
    "plt.plot(x_Data, y_Data_cos,label='Cosinus(x)') #plottet den Cosinus und hat das Label 'Cosinus'\n",
    "\n",
    "plt.xlabel('x [rad]') #fügt x-Achsenbeschriftung ein\n",
    "plt.ylabel('Amplitude') #fügt y-Achsenbeschriftung ein\n",
    "\n",
    "plt.legend(loc = 'lower left') #fügt die Legende unten links ein\n",
    "\n",
    "plt.title('Sinus und Cosinus');# fügt Titel ein"
   ]
  },
  {
   "cell_type": "markdown",
   "metadata": {},
   "source": [
    "### Mehere Plots in einem\n",
    "Will man mehere Diagramme nebeneinander darstellen, kann man die Funktion `plt.subplots(n,m)` benutzen. n ist hier Anzhal der Zeilen, m die Anzahl der Spalten. Einzelne Diagramme werden dann mit `ax[i,j].plot()` usw. aufgerufen. Wenn nur eine Zeile  gebraucht wird - wie hier unten - reicht `ax[i].plot()` aus.  "
   ]
  },
  {
   "cell_type": "code",
   "execution_count": null,
   "metadata": {},
   "outputs": [],
   "source": [
    "f,ax=plt.subplots(1,2,figsize=(15,4))\n",
    "\n",
    "ax[0].plot(x_Data, y_Data_sin,label='Sinus(x)')\n",
    "ax[0].legend(loc = 'lower left'); #fügt die Legende unten links ein\n",
    "\n",
    "ax[0].set_xlabel('x [rad]') #fügt x-Achsenbeschriftung ein    !!! ax[i].set_xlabel  anders als oben bei einzelnem plt.xlabel\n",
    "ax[0].set_ylabel('Amplitude') #fügt y-Achsenbeschriftung ein  !!! ax[i].set_ylabel\n",
    "ax[0].set_title('Sinus links')# fügt Titel ein                !!! ax[i].set_title\n",
    "\n",
    "\n",
    "ax[1].plot(x_Data, y_Data_cos, 'r', label='Cosinus(x)')\n",
    "ax[1].legend(loc = 'upper center') #fügt die Legende oben in der Mitte ein\n",
    "\n",
    "ax[1].set_xlabel('x [rad]') #fügt x-Achsenbeschriftung ein\n",
    "ax[1].set_ylabel('Amplitude') #fügt y-Achsenbeschriftung ein\n",
    "ax[1].set_title('Cosinus rechts');# fügt Titel ein"
   ]
  },
  {
   "cell_type": "markdown",
   "metadata": {},
   "source": [
    "### Hinweis\n",
    "Matplotlib, Numpy und viele andere Dinge, die Sie in diesem Kurs kennenlernen, bieten unzählige Möglichkeiten. Sollten Sie einmal etwas mit Python berechnen wollen und in diesem Kurs nicht fündig werden, gibt es in den allermeisten Fällen jemanden, der\\*die dieses Problem schon hatte. Suchen Sie in der Suchmaschine Ihrer Wahl z.B. nach `Python gestrichelte Linie in Plot` und Sie werden unzählige Erklärungen finden."
   ]
  },
  {
   "cell_type": "markdown",
   "metadata": {},
   "source": [
    "## Aufgaben Mathematik"
   ]
  },
  {
   "cell_type": "markdown",
   "metadata": {},
   "source": [
    "### Aufgabe 1 (**)\n",
    "Erstellen Sie eine Grafik, in der der Sinus und der Cosinus von 0° bis 360° geplottet werden. Beachten Sie dabei, dass die Funktion `np.sin(x)` standardmäßig mit Radiant arbeitet."
   ]
  },
  {
   "cell_type": "code",
   "execution_count": null,
   "metadata": {},
   "outputs": [],
   "source": [
    "# Ihre Lösung hier"
   ]
  },
  {
   "cell_type": "markdown",
   "metadata": {},
   "source": [
    "<font color='blue'> Doppelklicken Sie <b>hier</b> für die Lösung.</font>\n",
    "<!-- Lösung: \n",
    "x_Data_rad = np.linspace(0, 2 * np.pi, 100) #erzeugt 100 x-Werte zwischen 0 und 2 Pi\n",
    "y_Data_sin = np.sin(x_Data_rad) # berechnet den Sinus der x-Daten\n",
    "y_Data_cos = np.cos(x_Data_rad) # berechnet den Sinus der x-Daten\n",
    "x_Data_grad = x_Data_rad*180/np.pi # rechnet die y-Daten in Grad um\n",
    "plt.plot(x_Data_grad, y_Data_sin, label = 'Sinus(x)') #erzeugt den Sinus Plot\n",
    "plt.plot(x_Data_grad, y_Data_cos, label = 'Cosinus(x)') #erzeugt den Cosinus Plot \n",
    "plt.xlabel('x [°]') #fügt x-Achsenbeschriftung ein\n",
    "plt.ylabel('Amplitude') #fügt y-Achsenbeschriftung ein\n",
    "plt.legend(loc = 'lower left') #fügt die Legende unten links ein\n",
    "plt.title('Sinus und Cosinus') # fügt Titel ein\n",
    "-->"
   ]
  },
  {
   "cell_type": "markdown",
   "metadata": {},
   "source": [
    "## Aufgaben Physik"
   ]
  },
  {
   "cell_type": "markdown",
   "metadata": {},
   "source": [
    "### Aufgabe 1 (*)\n",
    "\n",
    "Die S-Bahn S1 fährt mit einer Verspätung von 10 Minuten am Mannheimer Hauptbahnhof los. Sie fährt die Strecke von Mannheim HBF nach Heidelberg HBF (ca. 18 km) mit einer durchschnittlichen Geschwindigkeit von 50 km/h.\n",
    "\n",
    "a) Plotten Sie das Zeit-Geschwindigkeit-Diagramm.\n",
    "\n",
    "b) Plotten Sie das Zeit-Weg-Diagramm."
   ]
  },
  {
   "cell_type": "code",
   "execution_count": null,
   "metadata": {},
   "outputs": [],
   "source": [
    "# Ihre Lösung hier  "
   ]
  },
  {
   "cell_type": "markdown",
   "metadata": {},
   "source": [
    "<font color='blue'> Doppelklicken Sie <b>hier</b> für die Lösung.</font>\n",
    "<!-- Lösung: \n",
    "t_Ankunft = 10 + 18/(50/60) # 10 Minuten Verspätung plus Fahrtzeit\n",
    "t = np.array([0,10,10, t_Ankunft])\n",
    "v = np.array([0,0,50,50]) #Zug fährt 10 Minuten lang garnicht, danach dann bis zur Ankunft 50 km/h\n",
    "s = np.array([0,0,0,18])\n",
    "plt.plot(t,v,label='Geschwindigkeit')\n",
    "plt.plot(t,s,label='Strecke')\n",
    "plt.xlabel('t [min]')\n",
    "plt.ylabel('v [km/h] // s [km]')\n",
    "plt.legend(loc = 'best') #platziert Legende an sinnvoller Stelle\n",
    "plt.title('Physik - Aufgabe 1: Zeit-Weg/Geschwindigkeit Diagramm')\n",
    "-->"
   ]
  },
  {
   "cell_type": "markdown",
   "metadata": {},
   "source": [
    "### Aufgabe 2 (**)\n",
    "\n",
    "Berechnen Sie die Strecke, die eine Fahrradfahrerin während einer 30-minütigen Tour zurücklegt, wenn:\n",
    "\n",
    "a) sie mit einer konstanten Geschwindigkeit von 5 km/h, 10 km/h,17 km/h, 35 km/h und 50 km/h fährt.\n",
    "\n",
    "b) sie zunächst 1 Minute gleichmäßig beschleunigt und dann mit konstanter Geschwindigkeit(aus Aufgabenteil a) fährt.\n",
    "\n",
    "c) Plotten sie das Zeit-Weg-Diagramm der Beschleunigungsphasen für 5 km/h und 50 km/h."
   ]
  },
  {
   "cell_type": "code",
   "execution_count": null,
   "metadata": {},
   "outputs": [],
   "source": [
    "# Ihre Lösung hier"
   ]
  },
  {
   "cell_type": "markdown",
   "metadata": {},
   "source": [
    "<font color='blue'> Doppelklicken Sie <b>hier</b> für die Lösung.</font>\n",
    "\n",
    "<!-- Lösung: \n",
    "a\n",
    "v = np.array([5,10,17,35,50])\n",
    "s = v*30/60 #s= v*t, mit t in Stunden\n",
    "print('a) Die Fahrerin legt ', s, ' km zurück')\n",
    "\n",
    "b\n",
    "s_konstant =  v* 29/60 #s= v*t, mit t in Stunden und nur 29 Minuten mit konstanter Geschwindigkeit\n",
    "a = v/(1/60) #Beschleunigung von 0 auf v in einer Minute\n",
    "s_beschleunigt = 1/2* a * (1/60)**2 #eine Minute lang mit a beschleunigen\n",
    "s_total = s_konstant + s_beschleunigt\n",
    "print('b) Die Fahrerin legt ', s_total, ' km zurück')\n",
    "\n",
    "c\n",
    "t = np.linspace(0, 60, 50) #erzeugt 50 Werte für t zwischen 0 und 60 Sekunden\n",
    "a_5 = (5/3.6)/60 #Geschwindigkeiten in m/s\n",
    "a_50 = (50/3.6)/60 #Geschwindigkeiten in m/s\n",
    "s_5 = 1/2*a_5*t**2 #s= 1/2 a t^2\n",
    "s_50 = 1/2*a_50*t**2\n",
    "plt.plot(t,s_5, label = '5 km/h')\n",
    "plt.plot(t,s_50, label = '50 km/h')\n",
    "plt.xlabel('t [s]')\n",
    "plt.ylabel(' s [m]')\n",
    "plt.legend(loc = 'best'); #platziert Legende an sinnvoller Stelle\n",
    "-->"
   ]
  },
  {
   "cell_type": "markdown",
   "metadata": {},
   "source": [
    "### Aufgabe 3 (**)\n",
    "\n",
    "Ein Stein aus einer Höhe h auf die Erde hinunter:\n",
    "\n",
    "a) Plotten Sie die Aufschlaggeschwindigkeit des Steins in Abhängigkeit der Fallhöhe ($h_{min}= 0 m$, $h_{max}= 50 m$).\n",
    "\n",
    "b) Plotten Sie die Aufschlaggeschwindigkeit des Steins in Abhängigkeit der Fallhöhe auf dem Mond ($g_{Mond} = 1,63 m/s^2$)."
   ]
  },
  {
   "cell_type": "code",
   "execution_count": null,
   "metadata": {},
   "outputs": [],
   "source": [
    "# Ihre Lösung hier"
   ]
  },
  {
   "cell_type": "markdown",
   "metadata": {},
   "source": [
    "<font color='blue'> Doppelklicken Sie <b>hier</b> für die Lösung.</font>\n",
    "<!-- Lösung: \n",
    "h = np.linspace(0, 50, 100) #erzeugt 100 Werte für h zwischen 0 und 50 Meter\n",
    "g = 9.81 # in m/s^2\n",
    "v = np.sqrt(2*g*h) #h = 1/2 g t^2 & v = a t\n",
    "plt.plot(h,v,label='Aufschlaggeschwindigkeit Erde')\n",
    "plt.xlabel('h [m]')\n",
    "plt.ylabel('v [m/s]')\n",
    "g_Mond = 1.63 # in m/s^2\n",
    "v = np.sqrt(2*g_Mond*h)\n",
    "plt.plot(h,v,label='Aufschlaggeschwindigkeit Mond')\n",
    "plt.xlabel('h [m]')\n",
    "plt.ylabel('v [m/s]')\n",
    "plt.legend(loc = 'best') #platziert Legende an sinnvoller Stelle\n",
    "-->"
   ]
  },
  {
   "cell_type": "markdown",
   "metadata": {},
   "source": [
    "[**-> Sprint 3: Datenanalyse**](Sprint3.ipynb)"
   ]
  },
  {
   "cell_type": "markdown",
   "metadata": {},
   "source": [
    "# Mehr Grafiken mit Matplotlib fürs Labor"
   ]
  },
  {
   "cell_type": "markdown",
   "metadata": {},
   "source": [
    "## Fehlerbalken\n",
    "\n",
    "Um Messdaten mit Fehlerbalken darzustellen, kann man die `plt.errorbar()` Funktion benutzen:"
   ]
  },
  {
   "cell_type": "code",
   "execution_count": null,
   "metadata": {
    "scrolled": true
   },
   "outputs": [],
   "source": [
    "x = np.linspace(0, 3*np.pi, 51)\n",
    "dy = 0.8\n",
    "y = np.sin(x)  \n",
    "\n",
    "plt.errorbar(x, y, yerr=dy, fmt='.k');"
   ]
  },
  {
   "cell_type": "markdown",
   "metadata": {},
   "source": [
    "## Histogramme\n",
    "Histogramme werden mit der `plt.hist()` Funktion erzeugt: "
   ]
  },
  {
   "cell_type": "code",
   "execution_count": null,
   "metadata": {},
   "outputs": [],
   "source": [
    "x = np.linspace(0, 3*np.pi, 51)\n",
    "y = np.sin(x) \n",
    "plt.hist(y);"
   ]
  },
  {
   "cell_type": "markdown",
   "metadata": {},
   "source": [
    "`plt.hist()` hat zahlreiche Optionen. Hier wird ein normalisiertes Histogramm (`density=True`) halb-durchsichtig (`alpha=0.5`) dargestellt:"
   ]
  },
  {
   "cell_type": "code",
   "execution_count": null,
   "metadata": {
    "scrolled": true
   },
   "outputs": [],
   "source": [
    "x = np.linspace(0, 3*np.pi, 51)\n",
    "y = np.sin(x) \n",
    "plt.hist(y, bins=12, density=True, alpha=0.5, histtype='stepfilled', color='steelblue', edgecolor='none');"
   ]
  },
  {
   "cell_type": "markdown",
   "metadata": {},
   "source": [
    " Beide Optionen sind ziemlich nützlich, wenn man unterschiedliche Verteilungen vergleichen will:  "
   ]
  },
  {
   "cell_type": "code",
   "execution_count": null,
   "metadata": {},
   "outputs": [],
   "source": [
    "x = np.linspace(0, 3*np.pi, 51)\n",
    "y = np.sin(x)  \n",
    "z = np.cos(x)\n",
    "\n",
    "kwargs = dict(histtype='stepfilled', alpha=0.3, density=True, bins=12)\n",
    "\n",
    "plt.hist(y, **kwargs)\n",
    "plt.hist(z, **kwargs);"
   ]
  },
  {
   "cell_type": "markdown",
   "metadata": {},
   "source": [
    "## Logarithmische Skala\n",
    "\n",
    "Um Daten in der logarithmischen Skala darzustellen, kann man die Option 'log' in den Achsen des Plots angeben `plt.yscale('log')` (oder auch `plt.xscale('log')`):"
   ]
  },
  {
   "cell_type": "code",
   "execution_count": null,
   "metadata": {},
   "outputs": [],
   "source": [
    "x = np.linspace(0, 3*np.pi, 51)\n",
    "y = np.exp(x)  \n",
    "\n",
    "plt.plot(x, y, label='Exp(x)')   #plottet die Exponenten\n",
    "\n",
    "plt.xlabel('x') #fügt x-Achsenbeschriftung ein\n",
    "plt.ylabel('Exp(x)') #fügt y-Achsenbeschriftung ein\n",
    "\n",
    "plt.title('Exponenten logarithmisch dagestellt');#fügt Titel ein\n",
    "\n",
    "plt.yscale('log') #y-Achse logarithmisch "
   ]
  },
  {
   "cell_type": "markdown",
   "metadata": {},
   "source": [
    "## Grafik speichern\n",
    "\n",
    "**`plt.savefig`** speichert die Grafik in einem existierenden Ordner. Man kann auch einen Ordner mit `!mkdir` (Windows) erstellen:"
   ]
  },
  {
   "cell_type": "code",
   "execution_count": null,
   "metadata": {},
   "outputs": [],
   "source": [
    "# einen Unterordner, relativ zum aktuellen Arbeitsverzeichnis, erstellen:\n",
    "!mkdir Pictures\n",
    "# aktuelles Arbeitsverzeichnis unter Windows abfragen:\n",
    "!cd \n",
    "# in anderen Systemen !pwd"
   ]
  },
  {
   "cell_type": "markdown",
   "metadata": {},
   "source": [
    "Bild im erstellten Ordner speichern:"
   ]
  },
  {
   "cell_type": "code",
   "execution_count": null,
   "metadata": {},
   "outputs": [],
   "source": [
    "x = np.linspace(0, 3*np.pi, 51)\n",
    "y = np.sin(x) \n",
    "plt.plot(x, y);   \n",
    "plt.savefig('Pictures/fig11.png') "
   ]
  },
  {
   "cell_type": "markdown",
   "metadata": {},
   "source": [
    "<div class=\"pull-left\"> \n",
    "<img src=\"Bilder/Achtung_schild.png\" width=\"70\">   \n",
    "</div>  \n",
    "\n",
    "Unter Windows bitte `/` benutzen, da es bei `\\` zu Problemen kommen kann, z.B. bei `\\t` oder `\\n` oder `\\a`, da sie bereits reserviert sind und man sie sonst 'de-reservieren' (z.B. `\\\\t` nutzen) müsste."
   ]
  },
  {
   "cell_type": "markdown",
   "metadata": {},
   "source": [
    "**Übrigens** \n",
    "\n",
    "Bei Python-Fehlermeldungen nicht in Panik geraten, sondern erst die *letzte* Zeile der Meldung lesen und dann die mit `---->` markierte Code-Zeile ansehen, z.B.:   "
   ]
  },
  {
   "cell_type": "code",
   "execution_count": null,
   "metadata": {},
   "outputs": [],
   "source": [
    "x = np.linspace(0, 3*np.pi, 50)\n",
    "z = np.cos(x) \n",
    "plt.plot(x, z,'r');  \n",
    "plt.savefig('Pictures\\afig11.png')"
   ]
  },
  {
   "cell_type": "markdown",
   "metadata": {},
   "source": [
    "`Invalid argument` bedeutet hier: nimm ein anderen Namen für deine Datei oder wechsle `\\a` gegen `\\\\a` oder `/a` "
   ]
  },
  {
   "cell_type": "markdown",
   "metadata": {},
   "source": [
    "## Interaktive Grafiken\n",
    "\n",
    "Um interaktive Diagramme in jupyter notebook zu zeigen, benutzt man den `%matplotlib notebook` Befehl (statt `%matplotlib inline`), bevor man die matplotlib-Bibliothek importiert."
   ]
  },
  {
   "cell_type": "code",
   "execution_count": null,
   "metadata": {},
   "outputs": [],
   "source": [
    "%matplotlib notebook\n",
    "%matplotlib notebook\n",
    "# an dieser Stelle muss man diesen Befehl 2 mal ausführen, damit er für das nächste Bild greift, da wir früher schon die inline-Funktion benutzt haben"
   ]
  },
  {
   "cell_type": "markdown",
   "metadata": {},
   "source": [
    "Wenn man mehrere interaktive Grafiken plotten will, soll man immer erst ein neues Diagramm öffnen(`plt.figure()`) und danach plotten, sonst werden alle Bilder in einem Fenster gezeigt."
   ]
  },
  {
   "cell_type": "code",
   "execution_count": null,
   "metadata": {
    "scrolled": true
   },
   "outputs": [],
   "source": [
    "x = np.linspace(0, 3*np.pi, 51)\n",
    "dy = 0.8\n",
    "y = np.sin(x)\n",
    "plt.figure() # neues Fenster\n",
    "plt.errorbar(x, y, yerr=dy, fmt='.k');"
   ]
  },
  {
   "cell_type": "code",
   "execution_count": null,
   "metadata": {},
   "outputs": [],
   "source": [
    "#zurück zu statischen Bildern\n",
    "%matplotlib inline"
   ]
  },
  {
   "cell_type": "markdown",
   "metadata": {},
   "source": [
    "[**-> Sprint 3: Sympy](Sprint3.ipynb)"
   ]
  }
 ],
 "metadata": {
  "kernelspec": {
   "display_name": "Python 3",
   "language": "python",
   "name": "python3"
  },
  "language_info": {
   "codemirror_mode": {
    "name": "ipython",
    "version": 3
   },
   "file_extension": ".py",
   "mimetype": "text/x-python",
   "name": "python",
   "nbconvert_exporter": "python",
   "pygments_lexer": "ipython3",
   "version": "3.7.3"
  }
 },
 "nbformat": 4,
 "nbformat_minor": 2
}
